{
 "cells": [
  {
   "cell_type": "code",
   "execution_count": 1,
   "metadata": {},
   "outputs": [
    {
     "output_type": "stream",
     "name": "stdout",
     "text": "Database connected\n"
    }
   ],
   "source": [
    "import pandas as pd\n",
    "import sqlite3\n",
    "\n",
    "conn = sqlite3.connect(\"COVID19.db\", check_same_thread=False)\n",
    "cur = conn.cursor()\n",
    "print('Database connected')"
   ]
  },
  {
   "cell_type": "code",
   "execution_count": 3,
   "metadata": {},
   "outputs": [
    {
     "output_type": "execute_result",
     "data": {
      "text/plain": "   pruid            prname                 date  numconf  numprob  numdeaths  \\\n0     35           Ontario  2020-01-31 00:00:00        3        0          0   \n1     59  British Columbia  2020-01-31 00:00:00        1        0          0   \n2      1            Canada  2020-01-31 00:00:00        4        0          0   \n3     35           Ontario  2020-02-08 00:00:00        3        0          0   \n4     59  British Columbia  2020-02-08 00:00:00        4        0          0   \n\n   numtotal  numtested  \n0         3          0  \n1         1          0  \n2         4          0  \n3         3          0  \n4         4          0  ",
      "text/html": "<div>\n<style scoped>\n    .dataframe tbody tr th:only-of-type {\n        vertical-align: middle;\n    }\n\n    .dataframe tbody tr th {\n        vertical-align: top;\n    }\n\n    .dataframe thead th {\n        text-align: right;\n    }\n</style>\n<table border=\"1\" class=\"dataframe\">\n  <thead>\n    <tr style=\"text-align: right;\">\n      <th></th>\n      <th>pruid</th>\n      <th>prname</th>\n      <th>date</th>\n      <th>numconf</th>\n      <th>numprob</th>\n      <th>numdeaths</th>\n      <th>numtotal</th>\n      <th>numtested</th>\n    </tr>\n  </thead>\n  <tbody>\n    <tr>\n      <th>0</th>\n      <td>35</td>\n      <td>Ontario</td>\n      <td>2020-01-31 00:00:00</td>\n      <td>3</td>\n      <td>0</td>\n      <td>0</td>\n      <td>3</td>\n      <td>0</td>\n    </tr>\n    <tr>\n      <th>1</th>\n      <td>59</td>\n      <td>British Columbia</td>\n      <td>2020-01-31 00:00:00</td>\n      <td>1</td>\n      <td>0</td>\n      <td>0</td>\n      <td>1</td>\n      <td>0</td>\n    </tr>\n    <tr>\n      <th>2</th>\n      <td>1</td>\n      <td>Canada</td>\n      <td>2020-01-31 00:00:00</td>\n      <td>4</td>\n      <td>0</td>\n      <td>0</td>\n      <td>4</td>\n      <td>0</td>\n    </tr>\n    <tr>\n      <th>3</th>\n      <td>35</td>\n      <td>Ontario</td>\n      <td>2020-02-08 00:00:00</td>\n      <td>3</td>\n      <td>0</td>\n      <td>0</td>\n      <td>3</td>\n      <td>0</td>\n    </tr>\n    <tr>\n      <th>4</th>\n      <td>59</td>\n      <td>British Columbia</td>\n      <td>2020-02-08 00:00:00</td>\n      <td>4</td>\n      <td>0</td>\n      <td>0</td>\n      <td>4</td>\n      <td>0</td>\n    </tr>\n  </tbody>\n</table>\n</div>"
     },
     "metadata": {},
     "execution_count": 3
    }
   ],
   "source": [
    "q='''SELECT * FROM \"covid\"'''\n",
    "df=pd.read_sql(q,con=conn)\n",
    "df.head()"
   ]
  },
  {
   "cell_type": "code",
   "execution_count": 4,
   "metadata": {},
   "outputs": [
    {
     "output_type": "stream",
     "name": "stdout",
     "text": "<class 'pandas.core.frame.DataFrame'>\nRangeIndex: 762 entries, 0 to 761\nData columns (total 8 columns):\n #   Column     Non-Null Count  Dtype \n---  ------     --------------  ----- \n 0   pruid      762 non-null    int64 \n 1   prname     762 non-null    object\n 2   date       762 non-null    object\n 3   numconf    762 non-null    int64 \n 4   numprob    762 non-null    int64 \n 5   numdeaths  762 non-null    int64 \n 6   numtotal   762 non-null    int64 \n 7   numtested  762 non-null    int64 \ndtypes: int64(6), object(2)\nmemory usage: 47.8+ KB\n"
    }
   ],
   "source": [
    "df.info()"
   ]
  },
  {
   "cell_type": "code",
   "execution_count": 6,
   "metadata": {},
   "outputs": [],
   "source": [
    "df['date']=pd.to_datetime(df['date'])"
   ]
  },
  {
   "cell_type": "code",
   "execution_count": 7,
   "metadata": {},
   "outputs": [
    {
     "output_type": "execute_result",
     "data": {
      "text/plain": "   pruid            prname       date  numconf  numprob  numdeaths  numtotal  \\\n0     35           Ontario 2020-01-31        3        0          0         3   \n1     59  British Columbia 2020-01-31        1        0          0         1   \n2      1            Canada 2020-01-31        4        0          0         4   \n3     35           Ontario 2020-02-08        3        0          0         3   \n4     59  British Columbia 2020-02-08        4        0          0         4   \n\n   numtested  \n0          0  \n1          0  \n2          0  \n3          0  \n4          0  ",
      "text/html": "<div>\n<style scoped>\n    .dataframe tbody tr th:only-of-type {\n        vertical-align: middle;\n    }\n\n    .dataframe tbody tr th {\n        vertical-align: top;\n    }\n\n    .dataframe thead th {\n        text-align: right;\n    }\n</style>\n<table border=\"1\" class=\"dataframe\">\n  <thead>\n    <tr style=\"text-align: right;\">\n      <th></th>\n      <th>pruid</th>\n      <th>prname</th>\n      <th>date</th>\n      <th>numconf</th>\n      <th>numprob</th>\n      <th>numdeaths</th>\n      <th>numtotal</th>\n      <th>numtested</th>\n    </tr>\n  </thead>\n  <tbody>\n    <tr>\n      <th>0</th>\n      <td>35</td>\n      <td>Ontario</td>\n      <td>2020-01-31</td>\n      <td>3</td>\n      <td>0</td>\n      <td>0</td>\n      <td>3</td>\n      <td>0</td>\n    </tr>\n    <tr>\n      <th>1</th>\n      <td>59</td>\n      <td>British Columbia</td>\n      <td>2020-01-31</td>\n      <td>1</td>\n      <td>0</td>\n      <td>0</td>\n      <td>1</td>\n      <td>0</td>\n    </tr>\n    <tr>\n      <th>2</th>\n      <td>1</td>\n      <td>Canada</td>\n      <td>2020-01-31</td>\n      <td>4</td>\n      <td>0</td>\n      <td>0</td>\n      <td>4</td>\n      <td>0</td>\n    </tr>\n    <tr>\n      <th>3</th>\n      <td>35</td>\n      <td>Ontario</td>\n      <td>2020-02-08</td>\n      <td>3</td>\n      <td>0</td>\n      <td>0</td>\n      <td>3</td>\n      <td>0</td>\n    </tr>\n    <tr>\n      <th>4</th>\n      <td>59</td>\n      <td>British Columbia</td>\n      <td>2020-02-08</td>\n      <td>4</td>\n      <td>0</td>\n      <td>0</td>\n      <td>4</td>\n      <td>0</td>\n    </tr>\n  </tbody>\n</table>\n</div>"
     },
     "metadata": {},
     "execution_count": 7
    }
   ],
   "source": [
    "df.head()"
   ]
  },
  {
   "cell_type": "code",
   "execution_count": 8,
   "metadata": {},
   "outputs": [],
   "source": [
    "df['year']=df['date'].dt.year"
   ]
  },
  {
   "cell_type": "code",
   "execution_count": 9,
   "metadata": {},
   "outputs": [
    {
     "output_type": "execute_result",
     "data": {
      "text/plain": "0      2020\n1      2020\n2      2020\n3      2020\n4      2020\n       ... \n757    2020\n758    2020\n759    2020\n760    2020\n761    2020\nName: year, Length: 762, dtype: int64"
     },
     "metadata": {},
     "execution_count": 9
    }
   ],
   "source": [
    "df['year']"
   ]
  },
  {
   "cell_type": "code",
   "execution_count": 13,
   "metadata": {},
   "outputs": [
    {
     "output_type": "execute_result",
     "data": {
      "text/plain": "                     prname  numtotal  year\n0                   Ontario         3  2020\n1          British Columbia         1  2020\n2                    Canada         4  2020\n3                   Ontario         3  2020\n4          British Columbia         4  2020\n..                      ...       ...   ...\n757                   Yukon        11  2020\n758   Northwest Territories         5  2020\n759                 Nunavut         0  2020\n760  Repatriated travellers        13  2020\n761                  Canada     46895  2020\n\n[762 rows x 3 columns]",
      "text/html": "<div>\n<style scoped>\n    .dataframe tbody tr th:only-of-type {\n        vertical-align: middle;\n    }\n\n    .dataframe tbody tr th {\n        vertical-align: top;\n    }\n\n    .dataframe thead th {\n        text-align: right;\n    }\n</style>\n<table border=\"1\" class=\"dataframe\">\n  <thead>\n    <tr style=\"text-align: right;\">\n      <th></th>\n      <th>prname</th>\n      <th>numtotal</th>\n      <th>year</th>\n    </tr>\n  </thead>\n  <tbody>\n    <tr>\n      <th>0</th>\n      <td>Ontario</td>\n      <td>3</td>\n      <td>2020</td>\n    </tr>\n    <tr>\n      <th>1</th>\n      <td>British Columbia</td>\n      <td>1</td>\n      <td>2020</td>\n    </tr>\n    <tr>\n      <th>2</th>\n      <td>Canada</td>\n      <td>4</td>\n      <td>2020</td>\n    </tr>\n    <tr>\n      <th>3</th>\n      <td>Ontario</td>\n      <td>3</td>\n      <td>2020</td>\n    </tr>\n    <tr>\n      <th>4</th>\n      <td>British Columbia</td>\n      <td>4</td>\n      <td>2020</td>\n    </tr>\n    <tr>\n      <th>...</th>\n      <td>...</td>\n      <td>...</td>\n      <td>...</td>\n    </tr>\n    <tr>\n      <th>757</th>\n      <td>Yukon</td>\n      <td>11</td>\n      <td>2020</td>\n    </tr>\n    <tr>\n      <th>758</th>\n      <td>Northwest Territories</td>\n      <td>5</td>\n      <td>2020</td>\n    </tr>\n    <tr>\n      <th>759</th>\n      <td>Nunavut</td>\n      <td>0</td>\n      <td>2020</td>\n    </tr>\n    <tr>\n      <th>760</th>\n      <td>Repatriated travellers</td>\n      <td>13</td>\n      <td>2020</td>\n    </tr>\n    <tr>\n      <th>761</th>\n      <td>Canada</td>\n      <td>46895</td>\n      <td>2020</td>\n    </tr>\n  </tbody>\n</table>\n<p>762 rows × 3 columns</p>\n</div>"
     },
     "metadata": {},
     "execution_count": 13
    }
   ],
   "source": [
    "df[[\"prname\", \"numtotal\", \"year\"]][df.pruid != (99,1)]"
   ]
  },
  {
   "cell_type": "code",
   "execution_count": 45,
   "metadata": {},
   "outputs": [
    {
     "output_type": "stream",
     "name": "stdout",
     "text": "<class 'pandas.core.frame.DataFrame'>\nRangeIndex: 16 entries, 0 to 15\nData columns (total 1 columns):\n #   Column  Non-Null Count  Dtype \n---  ------  --------------  ----- \n 0   name    16 non-null     object\ndtypes: object(1)\nmemory usage: 256.0+ bytes\n"
    }
   ],
   "source": [
    "prlist = pd.read_sql_query(\n",
    "    \"\"\"SELECT name FROM sqlite_master WHERE type='table' ORDER BY name;\"\"\", con=conn,\n",
    ")\n",
    "prlist.info()"
   ]
  },
  {
   "cell_type": "code",
   "execution_count": 57,
   "metadata": {},
   "outputs": [
    {
     "output_type": "execute_result",
     "data": {
      "text/plain": "                         name\n0                     Alberta\n1            British Columbia\n3                    Manitoba\n4               New Brunswick\n5   Newfoundland and Labrador\n6       Northwest Territories\n7                 Nova Scotia\n8                     Nunavut\n9                     Ontario\n10       Prince Edward Island\n11                     Quebec\n12     Repatriated travellers\n13               Saskatchewan\n14                      Yukon",
      "text/html": "<div>\n<style scoped>\n    .dataframe tbody tr th:only-of-type {\n        vertical-align: middle;\n    }\n\n    .dataframe tbody tr th {\n        vertical-align: top;\n    }\n\n    .dataframe thead th {\n        text-align: right;\n    }\n</style>\n<table border=\"1\" class=\"dataframe\">\n  <thead>\n    <tr style=\"text-align: right;\">\n      <th></th>\n      <th>name</th>\n    </tr>\n  </thead>\n  <tbody>\n    <tr>\n      <th>0</th>\n      <td>Alberta</td>\n    </tr>\n    <tr>\n      <th>1</th>\n      <td>British Columbia</td>\n    </tr>\n    <tr>\n      <th>3</th>\n      <td>Manitoba</td>\n    </tr>\n    <tr>\n      <th>4</th>\n      <td>New Brunswick</td>\n    </tr>\n    <tr>\n      <th>5</th>\n      <td>Newfoundland and Labrador</td>\n    </tr>\n    <tr>\n      <th>6</th>\n      <td>Northwest Territories</td>\n    </tr>\n    <tr>\n      <th>7</th>\n      <td>Nova Scotia</td>\n    </tr>\n    <tr>\n      <th>8</th>\n      <td>Nunavut</td>\n    </tr>\n    <tr>\n      <th>9</th>\n      <td>Ontario</td>\n    </tr>\n    <tr>\n      <th>10</th>\n      <td>Prince Edward Island</td>\n    </tr>\n    <tr>\n      <th>11</th>\n      <td>Quebec</td>\n    </tr>\n    <tr>\n      <th>12</th>\n      <td>Repatriated travellers</td>\n    </tr>\n    <tr>\n      <th>13</th>\n      <td>Saskatchewan</td>\n    </tr>\n    <tr>\n      <th>14</th>\n      <td>Yukon</td>\n    </tr>\n  </tbody>\n</table>\n</div>"
     },
     "metadata": {},
     "execution_count": 57
    }
   ],
   "source": [
    "condition=(prlist.name=='Canada') | (prlist.name=='covid') | (prlist.name=='Repatriated travellers')\n",
    "prlist.drop(prlist[condition].index)"
   ]
  }
 ],
 "metadata": {
  "language_info": {
   "codemirror_mode": {
    "name": "ipython",
    "version": 3
   },
   "file_extension": ".py",
   "mimetype": "text/x-python",
   "name": "python",
   "nbconvert_exporter": "python",
   "pygments_lexer": "ipython3",
   "version": "3.8.2-final"
  },
  "orig_nbformat": 2,
  "kernelspec": {
   "name": "python38264bitcovidvenv3840c8a264d440478102c2c2c104d6b2",
   "display_name": "Python 3.8.2 64-bit ('covid': venv)"
  }
 },
 "nbformat": 4,
 "nbformat_minor": 2
}